{
 "cells": [
  {
   "cell_type": "code",
   "execution_count": 1,
   "id": "3722a2ea-aeb2-44ed-ba41-942ff770ee78",
   "metadata": {},
   "outputs": [
    {
     "name": "stdout",
     "output_type": "stream",
     "text": [
      "Accuracy: 0.9777777777777777\n",
      "Predicted class for sample: [np.str_('setosa')]\n"
     ]
    }
   ],
   "source": [
    "from sklearn.datasets import load_iris\n",
    "from sklearn.model_selection import train_test_split\n",
    "from sklearn.neighbors import KNeighborsClassifier\n",
    "from sklearn import metrics\n",
    "\n",
    "# Load the iris dataset\n",
    "iris = load_iris()\n",
    "x = iris.data       # Features (sepal length, sepal width, etc.)\n",
    "y = iris.target     # Target labels (0, 1, 2)\n",
    "\n",
    "# Split into training and testing sets (70% train, 30% test)\n",
    "x_train, x_test, y_train, y_test = train_test_split(x, y, test_size=0.3, random_state=1)\n",
    "\n",
    "# Create and train the KNN classifier\n",
    "c_knn = KNeighborsClassifier(n_neighbors=3)\n",
    "c_knn.fit(x_train, y_train)\n",
    "\n",
    "# Predict on test set\n",
    "y_pred = c_knn.predict(x_test)\n",
    "\n",
    "# Print accuracy\n",
    "print(\"Accuracy:\", metrics.accuracy_score(y_test, y_pred))\n",
    "\n",
    "# Predict a new sample flower\n",
    "sample = [[2, 2, 2, 2]]\n",
    "pred = c_knn.predict(sample)\n",
    "\n",
    "# Convert prediction from number to flower name\n",
    "pred_v = [iris.target_names[p] for p in pred]\n",
    "print(\"Predicted class for sample:\", pred_v)\n"
   ]
  },
  {
   "cell_type": "code",
   "execution_count": null,
   "id": "588696e4-ffc4-4d6f-92b2-0cbb1d759c0b",
   "metadata": {},
   "outputs": [],
   "source": []
  }
 ],
 "metadata": {
  "kernelspec": {
   "display_name": "Python 3 (ipykernel)",
   "language": "python",
   "name": "python3"
  },
  "language_info": {
   "codemirror_mode": {
    "name": "ipython",
    "version": 3
   },
   "file_extension": ".py",
   "mimetype": "text/x-python",
   "name": "python",
   "nbconvert_exporter": "python",
   "pygments_lexer": "ipython3",
   "version": "3.13.5"
  }
 },
 "nbformat": 4,
 "nbformat_minor": 5
}
