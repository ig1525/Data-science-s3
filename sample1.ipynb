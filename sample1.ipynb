{
 "cells": [
  {
   "cell_type": "code",
   "execution_count": 1,
   "id": "46407dce-c346-4aec-92e8-a2af2cf48ecb",
   "metadata": {},
   "outputs": [],
   "source": [
    "import numpy as np"
   ]
  },
  {
   "cell_type": "code",
   "execution_count": 2,
   "id": "7a124a5a-0e0a-44f7-b275-9c68e981978e",
   "metadata": {},
   "outputs": [
    {
     "name": "stdout",
     "output_type": "stream",
     "text": [
      "Original 1D Array:\n",
      "[ 1  2  3  4  5  6  7  8  9 10]\n"
     ]
    }
   ],
   "source": [
    "arr = np.array([1, 2, 3, 4, 5, 6, 7, 8, 9, 10])\n",
    "print(\"Original 1D Array:\")\n",
    "print(arr)"
   ]
  },
  {
   "cell_type": "code",
   "execution_count": 3,
   "id": "3195e7a3-aa3a-44eb-8a88-9955e5d4ed6f",
   "metadata": {},
   "outputs": [
    {
     "name": "stdout",
     "output_type": "stream",
     "text": [
      "Reshaped to 2x5:\n",
      "[[ 1  2  3  4  5]\n",
      " [ 6  7  8  9 10]]\n"
     ]
    }
   ],
   "source": [
    "arr_reshaped = arr.reshape(2, 5)\n",
    "print(\"Reshaped to 2x5:\")\n",
    "print(arr_reshaped)"
   ]
  },
  {
   "cell_type": "code",
   "execution_count": 4,
   "id": "b098119c-0061-4bc5-aedc-619faf4b48dc",
   "metadata": {},
   "outputs": [
    {
     "name": "stdout",
     "output_type": "stream",
     "text": [
      "Matrix:\n",
      "[[ 1  2  3  4  5]\n",
      " [ 6  7  8  9 10]]\n"
     ]
    }
   ],
   "source": [
    "matrix = np.matrix(arr_reshaped)\n",
    "print(\"Matrix:\")\n",
    "print(matrix)"
   ]
  },
  {
   "cell_type": "code",
   "execution_count": 5,
   "id": "db9e793d-2b4c-44cd-ab34-af62a9797362",
   "metadata": {},
   "outputs": [
    {
     "name": "stdout",
     "output_type": "stream",
     "text": [
      "Transpose of matrix:\n",
      "[[ 1  6]\n",
      " [ 2  7]\n",
      " [ 3  8]\n",
      " [ 4  9]\n",
      " [ 5 10]]\n",
      "Matrix * Transpose:\n",
      "[[ 55 130]\n",
      " [130 330]]\n"
     ]
    }
   ],
   "source": [
    "print(\"Transpose of matrix:\")\n",
    "print(matrix.T)\n",
    "\n",
    "# Matrix multiplication (with its transpose)\n",
    "print(\"Matrix * Transpose:\")\n",
    "print(matrix @ matrix.T)"
   ]
  },
  {
   "cell_type": "code",
   "execution_count": 6,
   "id": "d62c2345-6036-4c88-85f0-ccc6d81a0251",
   "metadata": {},
   "outputs": [
    {
     "name": "stdout",
     "output_type": "stream",
     "text": [
      "Original Array:\n",
      "[10 25 30  5 60]\n"
     ]
    }
   ],
   "source": [
    "arr = np.array([10, 25, 30, 5, 60])\n",
    "print(\"Original Array:\")\n",
    "print(arr)"
   ]
  },
  {
   "cell_type": "code",
   "execution_count": 7,
   "id": "669200cd-4e4d-4e1e-9142-fda28f75cc02",
   "metadata": {},
   "outputs": [
    {
     "name": "stdout",
     "output_type": "stream",
     "text": [
      "Greater than 20 (Boolean Mask):\n",
      "[False  True  True False  True]\n",
      "Elements Greater Than 20:\n",
      "[25 30 60]\n"
     ]
    }
   ],
   "source": [
    "greater_than_20 = arr > 20\n",
    "print(\"Greater than 20 (Boolean Mask):\")\n",
    "print(greater_than_20)\n",
    "\n",
    "print(\"Elements Greater Than 20:\")\n",
    "print(arr[greater_than_20])"
   ]
  },
  {
   "cell_type": "code",
   "execution_count": 8,
   "id": "1f8c2aa3-f072-4c7c-97f8-312b6190c26d",
   "metadata": {},
   "outputs": [
    {
     "name": "stdout",
     "output_type": "stream",
     "text": [
      "Less than or equal to 10 (Boolean Mask):\n",
      "[ True False False  True False]\n",
      "Elements <= 10:\n",
      "[10  5]\n"
     ]
    }
   ],
   "source": [
    "less_equal_10 = arr <= 10\n",
    "print(\"Less than or equal to 10 (Boolean Mask):\")\n",
    "print(less_equal_10)\n",
    "\n",
    "print(\"Elements <= 10:\")\n",
    "print(arr[less_equal_10])"
   ]
  },
  {
   "cell_type": "code",
   "execution_count": 9,
   "id": "fd823531-06d4-4d61-865c-75499bbbf66f",
   "metadata": {},
   "outputs": [
    {
     "name": "stdout",
     "output_type": "stream",
     "text": [
      "Second Array:\n",
      "[15 20 35  2 60]\n",
      "arr > arr2:\n",
      "[False  True False  True False]\n",
      "Elements in arr greater than arr2:\n",
      "[25  5]\n"
     ]
    }
   ],
   "source": [
    "arr2 = np.array([15, 20, 35, 2, 60])\n",
    "print(\"Second Array:\")\n",
    "print(arr2)\n",
    "\n",
    "print(\"arr > arr2:\")\n",
    "print(arr > arr2)\n",
    "\n",
    "print(\"Elements in arr greater than arr2:\")\n",
    "print(arr[arr > arr2])"
   ]
  },
  {
   "cell_type": "code",
   "execution_count": null,
   "id": "d0444d86-44ae-439d-8d37-2eee50f4d349",
   "metadata": {},
   "outputs": [],
   "source": []
  }
 ],
 "metadata": {
  "kernelspec": {
   "display_name": "Python [conda env:anaconda3]",
   "language": "python",
   "name": "conda-env-anaconda3-py"
  },
  "language_info": {
   "codemirror_mode": {
    "name": "ipython",
    "version": 3
   },
   "file_extension": ".py",
   "mimetype": "text/x-python",
   "name": "python",
   "nbconvert_exporter": "python",
   "pygments_lexer": "ipython3",
   "version": "3.13.5"
  }
 },
 "nbformat": 4,
 "nbformat_minor": 5
}
